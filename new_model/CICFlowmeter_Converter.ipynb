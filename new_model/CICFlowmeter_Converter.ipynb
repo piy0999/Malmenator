{
 "cells": [
  {
   "cell_type": "code",
   "execution_count": 1,
   "metadata": {},
   "outputs": [],
   "source": [
    "# Pipeline for converting raw CICFlowmeter data into model friendly format\n",
    "\n",
    "import os\n",
    "import pandas as pd\n",
    "import numpy as np\n",
    "from joblib import dump, load\n",
    "#import requests\n",
    "from elasticsearch import Elasticsearch\n",
    "\n",
    "df = pd.read_csv('packets-record.pcap_Flow.csv')"
   ]
  },
  {
   "cell_type": "code",
   "execution_count": 2,
   "metadata": {},
   "outputs": [],
   "source": [
    "# Reengineer ports\n",
    "df['is_well_known_port'] = df.apply(lambda row: 1 if row['Dst Port'] < 1024 else 0, axis=1)\n",
    "df['is_registered_port'] = df.apply(lambda row: 1 if row['Dst Port'] >= 1024 and row['Dst Port'] < 49152 else 0, axis=1)\n",
    "\n",
    "# Drop certain columns\n",
    "\n",
    "cols_to_drop = ['Flow ID', 'Src IP', 'Src Port', 'Dst IP', 'Dst Port', 'Protocol',\n",
    "                'Timestamp', 'Bwd PSH Flags', 'Bwd URG Flags', 'Fwd Byts/b Avg', 'Fwd Pkts/b Avg',\n",
    "                'Fwd Blk Rate Avg', 'Bwd Byts/b Avg', 'Bwd Pkts/b Avg', 'Bwd Blk Rate Avg', 'Label']\n",
    "\n",
    "df_out = df.drop(columns=cols_to_drop, axis=1)\n",
    "\n",
    "# Reorganize column order\n",
    "\n",
    "\n",
    "# Scale columns\n"
   ]
  },
  {
   "cell_type": "code",
   "execution_count": 3,
   "metadata": {},
   "outputs": [],
   "source": [
    "scaler = load('std_scaler_cicids17.bin')\n",
    "\n",
    "cols = list(df_out.columns.values)\n",
    "cols.remove('Fwd PSH Flags')\n",
    "cols.remove('Fwd URG Flags')\n",
    "cols.remove('FIN Flag Cnt')\n",
    "cols.remove('SYN Flag Cnt')\n",
    "cols.remove('RST Flag Cnt')\n",
    "cols.remove('PSH Flag Cnt')\n",
    "cols.remove('ACK Flag Cnt')\n",
    "cols.remove('URG Flag Cnt')\n",
    "cols.remove('CWE Flag Count')\n",
    "cols.remove('ECE Flag Cnt')\n",
    "cols.remove('is_well_known_port')\n",
    "cols.remove('is_registered_port')\n",
    "\n",
    "df_out[cols] = scaler.transform(df_out[cols])\n"
   ]
  },
  {
   "cell_type": "code",
   "execution_count": 4,
   "metadata": {},
   "outputs": [
    {
     "name": "stderr",
     "output_type": "stream",
     "text": [
      "[Parallel(n_jobs=1)]: Using backend SequentialBackend with 1 concurrent workers.\n",
      "[Parallel(n_jobs=1)]: Done 100 out of 100 | elapsed:    0.0s finished\n"
     ]
    }
   ],
   "source": [
    "model = load('rf_cicids2017.joblib') \n",
    "\n",
    "y_pred = model.predict(df_out)"
   ]
  },
  {
   "cell_type": "code",
   "execution_count": 5,
   "metadata": {},
   "outputs": [],
   "source": [
    "df['predicted'] = y_pred\n",
    "df['Timestamp'] = pd.to_datetime(df['Timestamp'])"
   ]
  },
  {
   "cell_type": "code",
   "execution_count": 8,
   "metadata": {},
   "outputs": [],
   "source": [
    "es = Elasticsearch(\"https://search-malmenator-hodt3wt2k7b5x7ph63zibt3eiy.us-east-1.es.amazonaws.com/\")"
   ]
  },
  {
   "cell_type": "code",
   "execution_count": 9,
   "metadata": {},
   "outputs": [
    {
     "data": {
      "text/plain": [
       "<Elasticsearch([{'host': 'search-malmenator-hodt3wt2k7b5x7ph63zibt3eiy.us-east-1.es.amazonaws.com', 'port': 443, 'use_ssl': True}])>"
      ]
     },
     "execution_count": 9,
     "metadata": {},
     "output_type": "execute_result"
    }
   ],
   "source": [
    "es"
   ]
  },
  {
   "cell_type": "code",
   "execution_count": 10,
   "metadata": {},
   "outputs": [],
   "source": [
    "vals = df.T.to_dict().values()"
   ]
  },
  {
   "cell_type": "code",
   "execution_count": 12,
   "metadata": {},
   "outputs": [],
   "source": [
    "for i in vals:\n",
    "    es.index(index=\"flows_model\", doc_type=\"_doc\", body=i)"
   ]
  },
  {
   "cell_type": "code",
   "execution_count": null,
   "metadata": {},
   "outputs": [],
   "source": [
    "print(\"Data sent to ES\")"
   ]
  }
 ],
 "metadata": {
  "kernelspec": {
   "display_name": "Python 3",
   "language": "python",
   "name": "python3"
  },
  "language_info": {
   "codemirror_mode": {
    "name": "ipython",
    "version": 3
   },
   "file_extension": ".py",
   "mimetype": "text/x-python",
   "name": "python",
   "nbconvert_exporter": "python",
   "pygments_lexer": "ipython3",
   "version": "3.7.6"
  }
 },
 "nbformat": 4,
 "nbformat_minor": 4
}
