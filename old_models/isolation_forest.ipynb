{
 "cells": [
  {
   "cell_type": "code",
   "execution_count": 40,
   "metadata": {},
   "outputs": [],
   "source": [
    "import pandas as pd\n",
    "import numpy as np\n",
    "from sklearn.model_selection import train_test_split\n",
    "from sklearn.svm import OneClassSVM\n",
    "from sklearn.metrics import confusion_matrix\n",
    "from sklearn.preprocessing import normalize, StandardScaler\n",
    "from sklearn.ensemble import IsolationForest\n",
    "import matplotlib.pyplot as plt"
   ]
  },
  {
   "cell_type": "code",
   "execution_count": 2,
   "metadata": {},
   "outputs": [
    {
     "name": "stderr",
     "output_type": "stream",
     "text": [
      "/home/ubuntu/anaconda3/lib/python3.7/site-packages/IPython/core/interactiveshell.py:3058: DtypeWarning: Columns (8) have mixed types. Specify dtype option on import or set low_memory=False.\n",
      "  interactivity=interactivity, compiler=compiler, result=result)\n"
     ]
    }
   ],
   "source": [
    "df = pd.read_csv(\"/home/ubuntu/cidds/CIDDS-001/traffic/OpenStack/CIDDS-001-internal-week1.csv\")"
   ]
  },
  {
   "cell_type": "code",
   "execution_count": 3,
   "metadata": {},
   "outputs": [
    {
     "data": {
      "text/html": [
       "<div>\n",
       "<style scoped>\n",
       "    .dataframe tbody tr th:only-of-type {\n",
       "        vertical-align: middle;\n",
       "    }\n",
       "\n",
       "    .dataframe tbody tr th {\n",
       "        vertical-align: top;\n",
       "    }\n",
       "\n",
       "    .dataframe thead th {\n",
       "        text-align: right;\n",
       "    }\n",
       "</style>\n",
       "<table border=\"1\" class=\"dataframe\">\n",
       "  <thead>\n",
       "    <tr style=\"text-align: right;\">\n",
       "      <th></th>\n",
       "      <th>Date first seen</th>\n",
       "      <th>Duration</th>\n",
       "      <th>Proto</th>\n",
       "      <th>Src IP Addr</th>\n",
       "      <th>Src Pt</th>\n",
       "      <th>Dst IP Addr</th>\n",
       "      <th>Dst Pt</th>\n",
       "      <th>Packets</th>\n",
       "      <th>Bytes</th>\n",
       "      <th>Flows</th>\n",
       "      <th>Flags</th>\n",
       "      <th>Tos</th>\n",
       "      <th>class</th>\n",
       "      <th>attackType</th>\n",
       "      <th>attackID</th>\n",
       "      <th>attackDescription</th>\n",
       "    </tr>\n",
       "  </thead>\n",
       "  <tbody>\n",
       "    <tr>\n",
       "      <td>0</td>\n",
       "      <td>2017-03-15 00:01:16.632</td>\n",
       "      <td>0.000</td>\n",
       "      <td>TCP</td>\n",
       "      <td>192.168.100.5</td>\n",
       "      <td>445</td>\n",
       "      <td>192.168.220.16</td>\n",
       "      <td>58844.0</td>\n",
       "      <td>1</td>\n",
       "      <td>108</td>\n",
       "      <td>1</td>\n",
       "      <td>.AP...</td>\n",
       "      <td>0</td>\n",
       "      <td>normal</td>\n",
       "      <td>---</td>\n",
       "      <td>---</td>\n",
       "      <td>---</td>\n",
       "    </tr>\n",
       "    <tr>\n",
       "      <td>1</td>\n",
       "      <td>2017-03-15 00:01:16.552</td>\n",
       "      <td>0.000</td>\n",
       "      <td>TCP</td>\n",
       "      <td>192.168.100.5</td>\n",
       "      <td>445</td>\n",
       "      <td>192.168.220.15</td>\n",
       "      <td>48888.0</td>\n",
       "      <td>1</td>\n",
       "      <td>108</td>\n",
       "      <td>1</td>\n",
       "      <td>.AP...</td>\n",
       "      <td>0</td>\n",
       "      <td>normal</td>\n",
       "      <td>---</td>\n",
       "      <td>---</td>\n",
       "      <td>---</td>\n",
       "    </tr>\n",
       "    <tr>\n",
       "      <td>2</td>\n",
       "      <td>2017-03-15 00:01:16.551</td>\n",
       "      <td>0.004</td>\n",
       "      <td>TCP</td>\n",
       "      <td>192.168.220.15</td>\n",
       "      <td>48888</td>\n",
       "      <td>192.168.100.5</td>\n",
       "      <td>445.0</td>\n",
       "      <td>2</td>\n",
       "      <td>174</td>\n",
       "      <td>1</td>\n",
       "      <td>.AP...</td>\n",
       "      <td>0</td>\n",
       "      <td>normal</td>\n",
       "      <td>---</td>\n",
       "      <td>---</td>\n",
       "      <td>---</td>\n",
       "    </tr>\n",
       "    <tr>\n",
       "      <td>3</td>\n",
       "      <td>2017-03-15 00:01:16.631</td>\n",
       "      <td>0.004</td>\n",
       "      <td>TCP</td>\n",
       "      <td>192.168.220.16</td>\n",
       "      <td>58844</td>\n",
       "      <td>192.168.100.5</td>\n",
       "      <td>445.0</td>\n",
       "      <td>2</td>\n",
       "      <td>174</td>\n",
       "      <td>1</td>\n",
       "      <td>.AP...</td>\n",
       "      <td>0</td>\n",
       "      <td>normal</td>\n",
       "      <td>---</td>\n",
       "      <td>---</td>\n",
       "      <td>---</td>\n",
       "    </tr>\n",
       "    <tr>\n",
       "      <td>4</td>\n",
       "      <td>2017-03-15 00:01:16.552</td>\n",
       "      <td>0.000</td>\n",
       "      <td>TCP</td>\n",
       "      <td>192.168.100.5</td>\n",
       "      <td>445</td>\n",
       "      <td>192.168.220.15</td>\n",
       "      <td>48888.0</td>\n",
       "      <td>1</td>\n",
       "      <td>108</td>\n",
       "      <td>1</td>\n",
       "      <td>.AP...</td>\n",
       "      <td>0</td>\n",
       "      <td>normal</td>\n",
       "      <td>---</td>\n",
       "      <td>---</td>\n",
       "      <td>---</td>\n",
       "    </tr>\n",
       "  </tbody>\n",
       "</table>\n",
       "</div>"
      ],
      "text/plain": [
       "           Date first seen  Duration  Proto     Src IP Addr  Src Pt  \\\n",
       "0  2017-03-15 00:01:16.632     0.000  TCP     192.168.100.5     445   \n",
       "1  2017-03-15 00:01:16.552     0.000  TCP     192.168.100.5     445   \n",
       "2  2017-03-15 00:01:16.551     0.004  TCP    192.168.220.15   48888   \n",
       "3  2017-03-15 00:01:16.631     0.004  TCP    192.168.220.16   58844   \n",
       "4  2017-03-15 00:01:16.552     0.000  TCP     192.168.100.5     445   \n",
       "\n",
       "      Dst IP Addr   Dst Pt  Packets     Bytes  Flows   Flags  Tos   class  \\\n",
       "0  192.168.220.16  58844.0        1       108      1  .AP...    0  normal   \n",
       "1  192.168.220.15  48888.0        1       108      1  .AP...    0  normal   \n",
       "2   192.168.100.5    445.0        2       174      1  .AP...    0  normal   \n",
       "3   192.168.100.5    445.0        2       174      1  .AP...    0  normal   \n",
       "4  192.168.220.15  48888.0        1       108      1  .AP...    0  normal   \n",
       "\n",
       "  attackType attackID attackDescription  \n",
       "0        ---      ---               ---  \n",
       "1        ---      ---               ---  \n",
       "2        ---      ---               ---  \n",
       "3        ---      ---               ---  \n",
       "4        ---      ---               ---  "
      ]
     },
     "execution_count": 3,
     "metadata": {},
     "output_type": "execute_result"
    }
   ],
   "source": [
    "df.head()"
   ]
  },
  {
   "cell_type": "code",
   "execution_count": 4,
   "metadata": {},
   "outputs": [
    {
     "data": {
      "text/plain": [
       "normal      7010897\n",
       "attacker     746230\n",
       "victim       694393\n",
       "Name: class, dtype: int64"
      ]
     },
     "execution_count": 4,
     "metadata": {},
     "output_type": "execute_result"
    }
   ],
   "source": [
    "df['class'].value_counts()"
   ]
  },
  {
   "cell_type": "code",
   "execution_count": 5,
   "metadata": {},
   "outputs": [],
   "source": [
    "df['anomalous'] = np.where(df['class'] == 'normal', 0, 1)"
   ]
  },
  {
   "cell_type": "code",
   "execution_count": 6,
   "metadata": {},
   "outputs": [
    {
     "data": {
      "text/html": [
       "<div>\n",
       "<style scoped>\n",
       "    .dataframe tbody tr th:only-of-type {\n",
       "        vertical-align: middle;\n",
       "    }\n",
       "\n",
       "    .dataframe tbody tr th {\n",
       "        vertical-align: top;\n",
       "    }\n",
       "\n",
       "    .dataframe thead th {\n",
       "        text-align: right;\n",
       "    }\n",
       "</style>\n",
       "<table border=\"1\" class=\"dataframe\">\n",
       "  <thead>\n",
       "    <tr style=\"text-align: right;\">\n",
       "      <th></th>\n",
       "      <th>Date first seen</th>\n",
       "      <th>Duration</th>\n",
       "      <th>Proto</th>\n",
       "      <th>Src IP Addr</th>\n",
       "      <th>Src Pt</th>\n",
       "      <th>Dst IP Addr</th>\n",
       "      <th>Dst Pt</th>\n",
       "      <th>Packets</th>\n",
       "      <th>Bytes</th>\n",
       "      <th>Flows</th>\n",
       "      <th>Flags</th>\n",
       "      <th>Tos</th>\n",
       "      <th>class</th>\n",
       "      <th>attackType</th>\n",
       "      <th>attackID</th>\n",
       "      <th>attackDescription</th>\n",
       "      <th>anomalous</th>\n",
       "    </tr>\n",
       "  </thead>\n",
       "  <tbody>\n",
       "    <tr>\n",
       "      <td>0</td>\n",
       "      <td>2017-03-15 00:01:16.632</td>\n",
       "      <td>0.000</td>\n",
       "      <td>TCP</td>\n",
       "      <td>192.168.100.5</td>\n",
       "      <td>445</td>\n",
       "      <td>192.168.220.16</td>\n",
       "      <td>58844.0</td>\n",
       "      <td>1</td>\n",
       "      <td>108</td>\n",
       "      <td>1</td>\n",
       "      <td>.AP...</td>\n",
       "      <td>0</td>\n",
       "      <td>normal</td>\n",
       "      <td>---</td>\n",
       "      <td>---</td>\n",
       "      <td>---</td>\n",
       "      <td>0</td>\n",
       "    </tr>\n",
       "    <tr>\n",
       "      <td>1</td>\n",
       "      <td>2017-03-15 00:01:16.552</td>\n",
       "      <td>0.000</td>\n",
       "      <td>TCP</td>\n",
       "      <td>192.168.100.5</td>\n",
       "      <td>445</td>\n",
       "      <td>192.168.220.15</td>\n",
       "      <td>48888.0</td>\n",
       "      <td>1</td>\n",
       "      <td>108</td>\n",
       "      <td>1</td>\n",
       "      <td>.AP...</td>\n",
       "      <td>0</td>\n",
       "      <td>normal</td>\n",
       "      <td>---</td>\n",
       "      <td>---</td>\n",
       "      <td>---</td>\n",
       "      <td>0</td>\n",
       "    </tr>\n",
       "    <tr>\n",
       "      <td>2</td>\n",
       "      <td>2017-03-15 00:01:16.551</td>\n",
       "      <td>0.004</td>\n",
       "      <td>TCP</td>\n",
       "      <td>192.168.220.15</td>\n",
       "      <td>48888</td>\n",
       "      <td>192.168.100.5</td>\n",
       "      <td>445.0</td>\n",
       "      <td>2</td>\n",
       "      <td>174</td>\n",
       "      <td>1</td>\n",
       "      <td>.AP...</td>\n",
       "      <td>0</td>\n",
       "      <td>normal</td>\n",
       "      <td>---</td>\n",
       "      <td>---</td>\n",
       "      <td>---</td>\n",
       "      <td>0</td>\n",
       "    </tr>\n",
       "    <tr>\n",
       "      <td>3</td>\n",
       "      <td>2017-03-15 00:01:16.631</td>\n",
       "      <td>0.004</td>\n",
       "      <td>TCP</td>\n",
       "      <td>192.168.220.16</td>\n",
       "      <td>58844</td>\n",
       "      <td>192.168.100.5</td>\n",
       "      <td>445.0</td>\n",
       "      <td>2</td>\n",
       "      <td>174</td>\n",
       "      <td>1</td>\n",
       "      <td>.AP...</td>\n",
       "      <td>0</td>\n",
       "      <td>normal</td>\n",
       "      <td>---</td>\n",
       "      <td>---</td>\n",
       "      <td>---</td>\n",
       "      <td>0</td>\n",
       "    </tr>\n",
       "    <tr>\n",
       "      <td>4</td>\n",
       "      <td>2017-03-15 00:01:16.552</td>\n",
       "      <td>0.000</td>\n",
       "      <td>TCP</td>\n",
       "      <td>192.168.100.5</td>\n",
       "      <td>445</td>\n",
       "      <td>192.168.220.15</td>\n",
       "      <td>48888.0</td>\n",
       "      <td>1</td>\n",
       "      <td>108</td>\n",
       "      <td>1</td>\n",
       "      <td>.AP...</td>\n",
       "      <td>0</td>\n",
       "      <td>normal</td>\n",
       "      <td>---</td>\n",
       "      <td>---</td>\n",
       "      <td>---</td>\n",
       "      <td>0</td>\n",
       "    </tr>\n",
       "  </tbody>\n",
       "</table>\n",
       "</div>"
      ],
      "text/plain": [
       "           Date first seen  Duration  Proto     Src IP Addr  Src Pt  \\\n",
       "0  2017-03-15 00:01:16.632     0.000  TCP     192.168.100.5     445   \n",
       "1  2017-03-15 00:01:16.552     0.000  TCP     192.168.100.5     445   \n",
       "2  2017-03-15 00:01:16.551     0.004  TCP    192.168.220.15   48888   \n",
       "3  2017-03-15 00:01:16.631     0.004  TCP    192.168.220.16   58844   \n",
       "4  2017-03-15 00:01:16.552     0.000  TCP     192.168.100.5     445   \n",
       "\n",
       "      Dst IP Addr   Dst Pt  Packets     Bytes  Flows   Flags  Tos   class  \\\n",
       "0  192.168.220.16  58844.0        1       108      1  .AP...    0  normal   \n",
       "1  192.168.220.15  48888.0        1       108      1  .AP...    0  normal   \n",
       "2   192.168.100.5    445.0        2       174      1  .AP...    0  normal   \n",
       "3   192.168.100.5    445.0        2       174      1  .AP...    0  normal   \n",
       "4  192.168.220.15  48888.0        1       108      1  .AP...    0  normal   \n",
       "\n",
       "  attackType attackID attackDescription  anomalous  \n",
       "0        ---      ---               ---          0  \n",
       "1        ---      ---               ---          0  \n",
       "2        ---      ---               ---          0  \n",
       "3        ---      ---               ---          0  \n",
       "4        ---      ---               ---          0  "
      ]
     },
     "execution_count": 6,
     "metadata": {},
     "output_type": "execute_result"
    }
   ],
   "source": [
    "df.head()"
   ]
  },
  {
   "cell_type": "code",
   "execution_count": 7,
   "metadata": {},
   "outputs": [
    {
     "data": {
      "text/plain": [
       "0    7010897\n",
       "1    1440623\n",
       "Name: anomalous, dtype: int64"
      ]
     },
     "execution_count": 7,
     "metadata": {},
     "output_type": "execute_result"
    }
   ],
   "source": [
    "df['anomalous'].value_counts()"
   ]
  },
  {
   "cell_type": "code",
   "execution_count": 8,
   "metadata": {},
   "outputs": [
    {
     "data": {
      "text/plain": [
       "Date first seen       object\n",
       "Duration             float64\n",
       "Proto                 object\n",
       "Src IP Addr           object\n",
       "Src Pt                 int64\n",
       "Dst IP Addr           object\n",
       "Dst Pt               float64\n",
       "Packets                int64\n",
       "Bytes                 object\n",
       "Flows                  int64\n",
       "Flags                 object\n",
       "Tos                    int64\n",
       "class                 object\n",
       "attackType            object\n",
       "attackID              object\n",
       "attackDescription     object\n",
       "anomalous              int64\n",
       "dtype: object"
      ]
     },
     "execution_count": 8,
     "metadata": {},
     "output_type": "execute_result"
    }
   ],
   "source": [
    "df.dtypes"
   ]
  },
  {
   "cell_type": "code",
   "execution_count": 24,
   "metadata": {},
   "outputs": [],
   "source": [
    "df['Date first seen'] = pd.to_datetime(df['Date first seen'])  \n",
    "df['date_delta'] = (df['Date first seen'] - df['Date first seen'].min())  / np.timedelta64(1,'D')"
   ]
  },
  {
   "cell_type": "code",
   "execution_count": 25,
   "metadata": {},
   "outputs": [
    {
     "name": "stdout",
     "output_type": "stream",
     "text": [
      "<class 'pandas.core.frame.DataFrame'>\n",
      "RangeIndex: 8451520 entries, 0 to 8451519\n",
      "Data columns (total 18 columns):\n",
      "Date first seen      datetime64[ns]\n",
      "Duration             float64\n",
      "Proto                object\n",
      "Src IP Addr          object\n",
      "Src Pt               int64\n",
      "Dst IP Addr          object\n",
      "Dst Pt               float64\n",
      "Packets              int64\n",
      "Bytes                object\n",
      "Flows                int64\n",
      "Flags                object\n",
      "Tos                  int64\n",
      "class                object\n",
      "attackType           object\n",
      "attackID             object\n",
      "attackDescription    object\n",
      "anomalous            int64\n",
      "date_delta           float64\n",
      "dtypes: datetime64[ns](1), float64(3), int64(5), object(9)\n",
      "memory usage: 1.1+ GB\n"
     ]
    }
   ],
   "source": [
    "df.info()"
   ]
  },
  {
   "cell_type": "code",
   "execution_count": 80,
   "metadata": {},
   "outputs": [],
   "source": [
    "X = df.iloc[0:1000000,[1,4,6,7,9,11,16,17]]\n",
    "#y = df['anomalous']\n",
    "#X_train, X_test, y_train, y_test = train_test_split(df, y, test_size=0.2)"
   ]
  },
  {
   "cell_type": "code",
   "execution_count": 81,
   "metadata": {},
   "outputs": [
    {
     "data": {
      "text/html": [
       "<div>\n",
       "<style scoped>\n",
       "    .dataframe tbody tr th:only-of-type {\n",
       "        vertical-align: middle;\n",
       "    }\n",
       "\n",
       "    .dataframe tbody tr th {\n",
       "        vertical-align: top;\n",
       "    }\n",
       "\n",
       "    .dataframe thead th {\n",
       "        text-align: right;\n",
       "    }\n",
       "</style>\n",
       "<table border=\"1\" class=\"dataframe\">\n",
       "  <thead>\n",
       "    <tr style=\"text-align: right;\">\n",
       "      <th></th>\n",
       "      <th>Duration</th>\n",
       "      <th>Src Pt</th>\n",
       "      <th>Dst Pt</th>\n",
       "      <th>Packets</th>\n",
       "      <th>Flows</th>\n",
       "      <th>Tos</th>\n",
       "      <th>anomalous</th>\n",
       "      <th>date_delta</th>\n",
       "    </tr>\n",
       "  </thead>\n",
       "  <tbody>\n",
       "    <tr>\n",
       "      <td>0</td>\n",
       "      <td>0.000</td>\n",
       "      <td>445</td>\n",
       "      <td>58844.0</td>\n",
       "      <td>1</td>\n",
       "      <td>1</td>\n",
       "      <td>0</td>\n",
       "      <td>0</td>\n",
       "      <td>9.375000e-07</td>\n",
       "    </tr>\n",
       "    <tr>\n",
       "      <td>1</td>\n",
       "      <td>0.000</td>\n",
       "      <td>445</td>\n",
       "      <td>48888.0</td>\n",
       "      <td>1</td>\n",
       "      <td>1</td>\n",
       "      <td>0</td>\n",
       "      <td>0</td>\n",
       "      <td>1.157407e-08</td>\n",
       "    </tr>\n",
       "    <tr>\n",
       "      <td>2</td>\n",
       "      <td>0.004</td>\n",
       "      <td>48888</td>\n",
       "      <td>445.0</td>\n",
       "      <td>2</td>\n",
       "      <td>1</td>\n",
       "      <td>0</td>\n",
       "      <td>0</td>\n",
       "      <td>0.000000e+00</td>\n",
       "    </tr>\n",
       "    <tr>\n",
       "      <td>3</td>\n",
       "      <td>0.004</td>\n",
       "      <td>58844</td>\n",
       "      <td>445.0</td>\n",
       "      <td>2</td>\n",
       "      <td>1</td>\n",
       "      <td>0</td>\n",
       "      <td>0</td>\n",
       "      <td>9.259259e-07</td>\n",
       "    </tr>\n",
       "    <tr>\n",
       "      <td>4</td>\n",
       "      <td>0.000</td>\n",
       "      <td>445</td>\n",
       "      <td>48888.0</td>\n",
       "      <td>1</td>\n",
       "      <td>1</td>\n",
       "      <td>0</td>\n",
       "      <td>0</td>\n",
       "      <td>1.157407e-08</td>\n",
       "    </tr>\n",
       "    <tr>\n",
       "      <td>...</td>\n",
       "      <td>...</td>\n",
       "      <td>...</td>\n",
       "      <td>...</td>\n",
       "      <td>...</td>\n",
       "      <td>...</td>\n",
       "      <td>...</td>\n",
       "      <td>...</td>\n",
       "      <td>...</td>\n",
       "    </tr>\n",
       "    <tr>\n",
       "      <td>999995</td>\n",
       "      <td>0.033</td>\n",
       "      <td>53</td>\n",
       "      <td>35034.0</td>\n",
       "      <td>2</td>\n",
       "      <td>1</td>\n",
       "      <td>0</td>\n",
       "      <td>0</td>\n",
       "      <td>5.913870e-01</td>\n",
       "    </tr>\n",
       "    <tr>\n",
       "      <td>999996</td>\n",
       "      <td>0.693</td>\n",
       "      <td>443</td>\n",
       "      <td>49739.0</td>\n",
       "      <td>6</td>\n",
       "      <td>1</td>\n",
       "      <td>32</td>\n",
       "      <td>0</td>\n",
       "      <td>5.913792e-01</td>\n",
       "    </tr>\n",
       "    <tr>\n",
       "      <td>999997</td>\n",
       "      <td>0.000</td>\n",
       "      <td>35034</td>\n",
       "      <td>53.0</td>\n",
       "      <td>2</td>\n",
       "      <td>1</td>\n",
       "      <td>0</td>\n",
       "      <td>0</td>\n",
       "      <td>5.913870e-01</td>\n",
       "    </tr>\n",
       "    <tr>\n",
       "      <td>999998</td>\n",
       "      <td>0.000</td>\n",
       "      <td>50202</td>\n",
       "      <td>25.0</td>\n",
       "      <td>1</td>\n",
       "      <td>1</td>\n",
       "      <td>0</td>\n",
       "      <td>0</td>\n",
       "      <td>5.913861e-01</td>\n",
       "    </tr>\n",
       "    <tr>\n",
       "      <td>999999</td>\n",
       "      <td>0.728</td>\n",
       "      <td>49739</td>\n",
       "      <td>443.0</td>\n",
       "      <td>10</td>\n",
       "      <td>1</td>\n",
       "      <td>0</td>\n",
       "      <td>0</td>\n",
       "      <td>5.913787e-01</td>\n",
       "    </tr>\n",
       "  </tbody>\n",
       "</table>\n",
       "<p>1000000 rows × 8 columns</p>\n",
       "</div>"
      ],
      "text/plain": [
       "        Duration  Src Pt   Dst Pt  Packets  Flows  Tos  anomalous  \\\n",
       "0          0.000     445  58844.0        1      1    0          0   \n",
       "1          0.000     445  48888.0        1      1    0          0   \n",
       "2          0.004   48888    445.0        2      1    0          0   \n",
       "3          0.004   58844    445.0        2      1    0          0   \n",
       "4          0.000     445  48888.0        1      1    0          0   \n",
       "...          ...     ...      ...      ...    ...  ...        ...   \n",
       "999995     0.033      53  35034.0        2      1    0          0   \n",
       "999996     0.693     443  49739.0        6      1   32          0   \n",
       "999997     0.000   35034     53.0        2      1    0          0   \n",
       "999998     0.000   50202     25.0        1      1    0          0   \n",
       "999999     0.728   49739    443.0       10      1    0          0   \n",
       "\n",
       "          date_delta  \n",
       "0       9.375000e-07  \n",
       "1       1.157407e-08  \n",
       "2       0.000000e+00  \n",
       "3       9.259259e-07  \n",
       "4       1.157407e-08  \n",
       "...              ...  \n",
       "999995  5.913870e-01  \n",
       "999996  5.913792e-01  \n",
       "999997  5.913870e-01  \n",
       "999998  5.913861e-01  \n",
       "999999  5.913787e-01  \n",
       "\n",
       "[1000000 rows x 8 columns]"
      ]
     },
     "execution_count": 81,
     "metadata": {},
     "output_type": "execute_result"
    }
   ],
   "source": [
    "X"
   ]
  },
  {
   "cell_type": "code",
   "execution_count": 82,
   "metadata": {},
   "outputs": [
    {
     "data": {
      "text/plain": [
       "0    881235\n",
       "1    118765\n",
       "Name: anomalous, dtype: int64"
      ]
     },
     "execution_count": 82,
     "metadata": {},
     "output_type": "execute_result"
    }
   ],
   "source": [
    "X['anomalous'].value_counts()"
   ]
  },
  {
   "cell_type": "code",
   "execution_count": 83,
   "metadata": {},
   "outputs": [
    {
     "data": {
      "text/plain": [
       "<matplotlib.axes._subplots.AxesSubplot at 0x7f6ac40b7190>"
      ]
     },
     "execution_count": 83,
     "metadata": {},
     "output_type": "execute_result"
    },
    {
     "data": {
      "image/png": "[encoded data removed]",
      "text/plain": [
       "<Figure size 864x432 with 1 Axes>"
      ]
     },
     "metadata": {
      "needs_background": "light"
     },
     "output_type": "display_data"
    }
   ],
   "source": [
    "X.plot(x='date_delta', y='Duration', figsize=(12,6))"
   ]
  },
  {
   "cell_type": "code",
   "execution_count": 84,
   "metadata": {},
   "outputs": [
    {
     "name": "stdout",
     "output_type": "stream",
     "text": [
      "<class 'pandas.core.frame.DataFrame'>\n",
      "RangeIndex: 1000000 entries, 0 to 999999\n",
      "Data columns (total 8 columns):\n",
      "Duration      1000000 non-null float64\n",
      "Src Pt        1000000 non-null int64\n",
      "Dst Pt        1000000 non-null float64\n",
      "Packets       1000000 non-null int64\n",
      "Flows         1000000 non-null int64\n",
      "Tos           1000000 non-null int64\n",
      "anomalous     1000000 non-null int64\n",
      "date_delta    1000000 non-null float64\n",
      "dtypes: float64(3), int64(5)\n",
      "memory usage: 61.0 MB\n"
     ]
    }
   ],
   "source": [
    "X.info()"
   ]
  },
  {
   "cell_type": "code",
   "execution_count": 85,
   "metadata": {},
   "outputs": [
    {
     "name": "stderr",
     "output_type": "stream",
     "text": [
      "/home/ubuntu/anaconda3/lib/python3.7/site-packages/sklearn/ensemble/iforest.py:247: FutureWarning: behaviour=\"old\" is deprecated and will be removed in version 0.22. Please use behaviour=\"new\", which makes the decision_function change to match other anomaly detection algorithm API.\n",
      "  FutureWarning)\n"
     ]
    },
    {
     "data": {
      "text/plain": [
       "IsolationForest(behaviour='old', bootstrap=False,\n",
       "                contamination=0.13442443355757122, max_features=1.0,\n",
       "                max_samples='auto', n_estimators=100, n_jobs=None,\n",
       "                random_state=None, verbose=0, warm_start=False)"
      ]
     },
     "execution_count": 85,
     "metadata": {},
     "output_type": "execute_result"
    }
   ],
   "source": [
    "#train, test = train_test_split(X.loc[:,['Duration', 'date_delta', 'Packets', 'anomalous']], test_size=.2) \n",
    "train, test = train_test_split(X, test_size=.3) \n",
    "train_normal = train[train['anomalous']==0] \n",
    "train_outliers = train[train['anomalous']==1] \n",
    "outlier_prop = len(train_outliers) / len(train_normal)\n",
    "scaler = StandardScaler()\n",
    "np_scaled = scaler.fit_transform(train)\n",
    "train = pd.DataFrame(np_scaled)\n",
    "# train isolation forest\n",
    "model =  IsolationForest(contamination=outlier_prop)\n",
    "model.fit(train) "
   ]
  },
  {
   "cell_type": "code",
   "execution_count": 86,
   "metadata": {},
   "outputs": [
    {
     "name": "stderr",
     "output_type": "stream",
     "text": [
      "/home/ubuntu/anaconda3/lib/python3.7/site-packages/sklearn/ensemble/iforest.py:415: DeprecationWarning: threshold_ attribute is deprecated in 0.20 and will be removed in 0.22.\n",
      "  \" be removed in 0.22.\", DeprecationWarning)\n",
      "/home/ubuntu/anaconda3/lib/python3.7/site-packages/IPython/core/pylabtools.py:128: UserWarning: Creating legend with loc=\"best\" can be slow with large amounts of data.\n",
      "  fig.canvas.print_figure(bytes_io, **kw)\n"
     ]
    },
    {
     "data": {
      "image/png": "[encoded data removed]",
      "text/plain": [
       "<Figure size 720x432 with 1 Axes>"
      ]
     },
     "metadata": {
      "needs_background": "light"
     },
     "output_type": "display_data"
    }
   ],
   "source": [
    "temp = test.sort_values('date_delta')\n",
    "t1 = test.sort_values('date_delta')\n",
    "temp['anomaly2'] = pd.Series(model.predict(test))\n",
    "\n",
    "# visualization\n",
    "fig, ax = plt.subplots(figsize=(10,6))\n",
    "\n",
    "a = temp.loc[temp['anomaly2'] == -1, ['date_delta', 'Packets']] #anomaly\n",
    "\n",
    "ax.plot(t1['date_delta'], t1['Packets'], color='blue', label = 'Normal')\n",
    "ax.scatter(a['date_delta'],a['Packets'], color='red', label = 'Anomaly')\n",
    "plt.legend()\n",
    "plt.show();"
   ]
  },
  {
   "cell_type": "code",
   "execution_count": 87,
   "metadata": {},
   "outputs": [],
   "source": [
    "y_pred = temp['anomaly2']"
   ]
  },
  {
   "cell_type": "code",
   "execution_count": 89,
   "metadata": {},
   "outputs": [
    {
     "data": {
      "text/plain": [
       "1        -1.0\n",
       "24       -1.0\n",
       "22       -1.0\n",
       "14       -1.0\n",
       "16       -1.0\n",
       "         ... \n",
       "999986    NaN\n",
       "999999    NaN\n",
       "999992    NaN\n",
       "999996    NaN\n",
       "999993    NaN\n",
       "Name: anomaly2, Length: 300000, dtype: float64"
      ]
     },
     "execution_count": 89,
     "metadata": {},
     "output_type": "execute_result"
    }
   ],
   "source": [
    "y_pred"
   ]
  },
  {
   "cell_type": "code",
   "execution_count": 88,
   "metadata": {},
   "outputs": [
    {
     "ename": "IndexError",
     "evalue": "only integers, slices (`:`), ellipsis (`...`), numpy.newaxis (`None`) and integer or boolean arrays are valid indices",
     "output_type": "error",
     "traceback": [
      "\u001b[0;31m---------------------------------------------------------------------------\u001b[0m",
      "\u001b[0;31mIndexError\u001b[0m                                Traceback (most recent call last)",
      "\u001b[0;32m<ipython-input-88-b00a9315e4b3>\u001b[0m in \u001b[0;36m<module>\u001b[0;34m\u001b[0m\n\u001b[1;32m      2\u001b[0m \u001b[0my\u001b[0m \u001b[0;34m=\u001b[0m \u001b[0mtest\u001b[0m\u001b[0;34m[\u001b[0m\u001b[0;34m'Duration'\u001b[0m\u001b[0;34m]\u001b[0m\u001b[0;34m\u001b[0m\u001b[0;34m\u001b[0m\u001b[0m\n\u001b[1;32m      3\u001b[0m \u001b[0mcolors\u001b[0m \u001b[0;34m=\u001b[0m \u001b[0mnp\u001b[0m\u001b[0;34m.\u001b[0m\u001b[0marray\u001b[0m\u001b[0;34m(\u001b[0m\u001b[0;34m[\u001b[0m\u001b[0;34m'#377eb8'\u001b[0m\u001b[0;34m,\u001b[0m \u001b[0;34m'#ff7f00'\u001b[0m\u001b[0;34m]\u001b[0m\u001b[0;34m)\u001b[0m\u001b[0;34m\u001b[0m\u001b[0;34m\u001b[0m\u001b[0m\n\u001b[0;32m----> 4\u001b[0;31m \u001b[0mplt\u001b[0m\u001b[0;34m.\u001b[0m\u001b[0mscatter\u001b[0m\u001b[0;34m(\u001b[0m\u001b[0mx\u001b[0m\u001b[0;34m,\u001b[0m \u001b[0my\u001b[0m\u001b[0;34m,\u001b[0m \u001b[0malpha\u001b[0m\u001b[0;34m=\u001b[0m\u001b[0;36m0.7\u001b[0m\u001b[0;34m,\u001b[0m \u001b[0mc\u001b[0m\u001b[0;34m=\u001b[0m\u001b[0mcolors\u001b[0m\u001b[0;34m[\u001b[0m\u001b[0;34m(\u001b[0m\u001b[0my_pred\u001b[0m \u001b[0;34m+\u001b[0m \u001b[0;36m1\u001b[0m\u001b[0;34m)\u001b[0m \u001b[0;34m//\u001b[0m \u001b[0;36m2\u001b[0m\u001b[0;34m]\u001b[0m\u001b[0;34m)\u001b[0m\u001b[0;34m\u001b[0m\u001b[0;34m\u001b[0m\u001b[0m\n\u001b[0m\u001b[1;32m      5\u001b[0m \u001b[0mplt\u001b[0m\u001b[0;34m.\u001b[0m\u001b[0mxlabel\u001b[0m\u001b[0;34m(\u001b[0m\u001b[0;34m'x1'\u001b[0m\u001b[0;34m)\u001b[0m\u001b[0;34m\u001b[0m\u001b[0;34m\u001b[0m\u001b[0m\n\u001b[1;32m      6\u001b[0m \u001b[0mplt\u001b[0m\u001b[0;34m.\u001b[0m\u001b[0mylabel\u001b[0m\u001b[0;34m(\u001b[0m\u001b[0;34m'x4'\u001b[0m\u001b[0;34m)\u001b[0m\u001b[0;34m\u001b[0m\u001b[0;34m\u001b[0m\u001b[0m\n",
      "\u001b[0;31mIndexError\u001b[0m: only integers, slices (`:`), ellipsis (`...`), numpy.newaxis (`None`) and integer or boolean arrays are valid indices"
     ]
    }
   ],
   "source": [
    "x = test['Packets'] \n",
    "y = test['Duration'] \n",
    "colors = np.array(['#377eb8', '#ff7f00']) \n",
    "plt.scatter(x, y, alpha=0.7, c=colors[(y_pred + 1) // 2]) \n",
    "plt.xlabel('x1') \n",
    "plt.ylabel('x4')"
   ]
  },
  {
   "cell_type": "code",
   "execution_count": 77,
   "metadata": {},
   "outputs": [
    {
     "data": {
      "text/plain": [
       "<matplotlib.collections.PathCollection at 0x7f6ac3eafd90>"
      ]
     },
     "execution_count": 77,
     "metadata": {},
     "output_type": "execute_result"
    },
    {
     "data": {
      "image/png": "[encoded data removed]",
      "text/plain": [
       "<Figure size 432x288 with 1 Axes>"
      ]
     },
     "metadata": {
      "needs_background": "light"
     },
     "output_type": "display_data"
    }
   ],
   "source": [
    "x = test['Packets'] \n",
    "y = test['Duration'] \n",
    "plt.scatter(x, y) "
   ]
  },
  {
   "cell_type": "code",
   "execution_count": 78,
   "metadata": {},
   "outputs": [
    {
     "name": "stdout",
     "output_type": "stream",
     "text": [
      "[[    0 98220]\n",
      " [    0  1780]]\n"
     ]
    }
   ],
   "source": [
    "y_pred_t = np.where(y_pred == -1, 1, 0)\n",
    "mat = confusion_matrix(test['anomalous'], y_pred_t)\n",
    "print(mat)\n",
    "mat = normalize(mat, axis=1, norm='l1')"
   ]
  },
  {
   "cell_type": "code",
   "execution_count": 79,
   "metadata": {},
   "outputs": [
    {
     "data": {
      "image/png": "[encoded data removed]",
      "text/plain": [
       "<Figure size 432x288 with 1 Axes>"
      ]
     },
     "metadata": {
      "needs_background": "light"
     },
     "output_type": "display_data"
    }
   ],
   "source": [
    "fig, ax = plt.subplots()\n",
    "# Using matshow here just because it sets the ticks up nicely. imshow is faster.\n",
    "ax.matshow(mat, cmap='seismic')\n",
    "\n",
    "for (i, j), z in np.ndenumerate(mat):\n",
    "    ax.text(j, i, '{:0.5f}'.format(z), ha='center', va='center',\n",
    "            bbox=dict(boxstyle='round', facecolor='white', edgecolor='0.3'))\n",
    "\n",
    "plt.show()\n"
   ]
  },
  {
   "cell_type": "code",
   "execution_count": null,
   "metadata": {},
   "outputs": [],
   "source": []
  }
 ],
 "metadata": {
  "kernelspec": {
   "display_name": "Python 3",
   "language": "python",
   "name": "python3"
  },
  "language_info": {
   "codemirror_mode": {
    "name": "ipython",
    "version": 3
   },
   "file_extension": ".py",
   "mimetype": "text/x-python",
   "name": "python",
   "nbconvert_exporter": "python",
   "pygments_lexer": "ipython3",
   "version": "3.7.4"
  }
 },
 "nbformat": 4,
 "nbformat_minor": 2
}
